{
 "cells": [
  {
   "cell_type": "code",
   "execution_count": 1,
   "metadata": {},
   "outputs": [],
   "source": [
    "from nltk.corpus import words\n",
    "import requests\n",
    "from bs4 import BeautifulSoup\n",
    "import json\n",
    "word_list = words.words()"
   ]
  },
  {
   "cell_type": "code",
   "execution_count": 2,
   "metadata": {},
   "outputs": [],
   "source": [
    "def valid_words(central_letter, other_letters):\n",
    "    central_letter = central_letter.lower()\n",
    "    other_letters = other_letters.lower()\n",
    "    valid_words = [word for word in word_list if central_letter in word and len(word) > 3 and word.islower() and word.isalpha()]\n",
    "    # print(valid_words[:20])\n",
    "    alphabet = 'abcdefghijklmnopqrstuvwxyz'\n",
    "    exclude_letters = set(alphabet) - set(other_letters) - set(central_letter)\n",
    "    # print(exclude_letters)\n",
    "    valid_words = [word for word in valid_words if all(letter not in word for letter in exclude_letters)]\n",
    "    # print(valid_words[:20])\n",
    "    panagram = [word for word in valid_words if set(word) == set(other_letters + central_letter)]\n",
    "    sorted_panagram = sorted(panagram, key=lambda x: len(x), reverse=True)\n",
    "    # Sorted words that aren't panagrams\n",
    "    valid_words = [word for word in valid_words if word not in panagram]\n",
    "    sorted_words = sorted(valid_words, key=lambda x: len(x), reverse=True)\n",
    "    return sorted_panagram,sorted_words\n",
    "\n",
    "def scrape_letters():\n",
    "    url = \"https://www.nytimes.com/puzzles/spelling-bee\"\n",
    "    response = requests.get(url)\n",
    "    response.raise_for_status()\n",
    "    soup = BeautifulSoup(response.text, 'html.parser')\n",
    "    # print(soup.prettify())\n",
    "    # Iterate through all <script> tags\n",
    "    for script in soup.find_all(\"script\"):\n",
    "        if 'centerLetter' in script.text:\n",
    "            # We found the script with our data. Extracting the JSON string.\n",
    "            json_text = script.text\n",
    "            json_text = json_text.replace('window.gameData = ', '').replace(';', '')\n",
    "            game_data = json.loads(json_text)\n",
    "            today_data = game_data[\"today\"]\n",
    "            central_letter = today_data[\"centerLetter\"].lower()\n",
    "            outer_letters = ''.join(today_data[\"outerLetters\"]).lower()\n",
    "            return central_letter, outer_letters\n",
    "            \n",
    "    raise ValueError(\"Could not find the game data.\")   "
   ]
  },
  {
   "cell_type": "code",
   "execution_count": 3,
   "metadata": {},
   "outputs": [
    {
     "name": "stdout",
     "output_type": "stream",
     "text": [
      "Central Letter: y\n",
      "Other Letters: adeilz\n"
     ]
    }
   ],
   "source": [
    "try:\n",
    "    central_letter, other_letters = scrape_letters()\n",
    "    print(\"Central Letter:\", central_letter)\n",
    "    print(\"Other Letters:\", other_letters)\n",
    "except Exception as e:\n",
    "    print(\"An error occurred:\", e)"
   ]
  },
  {
   "cell_type": "code",
   "execution_count": 4,
   "metadata": {},
   "outputs": [
    {
     "data": {
      "text/plain": [
       "(['dialyze'],\n",
       " ['dillydally',\n",
       "  'deadlily',\n",
       "  'addedly',\n",
       "  'alleyed',\n",
       "  'dazedly',\n",
       "  'deadeye',\n",
       "  'deedily',\n",
       "  'diallyl',\n",
       "  'dizzily',\n",
       "  'ideally',\n",
       "  'idylize',\n",
       "  'daidly',\n",
       "  'deadly',\n",
       "  'eyelid',\n",
       "  'ladyly',\n",
       "  'lazily',\n",
       "  'leally',\n",
       "  'yieldy',\n",
       "  'adlay',\n",
       "  'allay',\n",
       "  'alley',\n",
       "  'allyl',\n",
       "  'daddy',\n",
       "  'daily',\n",
       "  'dally',\n",
       "  'dayal',\n",
       "  'deedy',\n",
       "  'delay',\n",
       "  'diddy',\n",
       "  'dilly',\n",
       "  'dizzy',\n",
       "  'leady',\n",
       "  'yalla',\n",
       "  'yezzy',\n",
       "  'yield',\n",
       "  'aday',\n",
       "  'ally',\n",
       "  'dazy',\n",
       "  'dyad',\n",
       "  'eddy',\n",
       "  'eely',\n",
       "  'eyed',\n",
       "  'eyey',\n",
       "  'idly',\n",
       "  'idyl',\n",
       "  'illy',\n",
       "  'lady',\n",
       "  'lazy',\n",
       "  'lily',\n",
       "  'yade',\n",
       "  'yale',\n",
       "  'yali',\n",
       "  'yaya',\n",
       "  'yday',\n",
       "  'yede',\n",
       "  'yeel',\n",
       "  'yeld',\n",
       "  'yell',\n",
       "  'yill'])"
      ]
     },
     "execution_count": 4,
     "metadata": {},
     "output_type": "execute_result"
    }
   ],
   "source": [
    "valid_words(central_letter, other_letters)"
   ]
  },
  {
   "cell_type": "code",
   "execution_count": null,
   "metadata": {},
   "outputs": [],
   "source": []
  }
 ],
 "metadata": {
  "kernelspec": {
   "display_name": "base",
   "language": "python",
   "name": "python3"
  },
  "language_info": {
   "codemirror_mode": {
    "name": "ipython",
    "version": 3
   },
   "file_extension": ".py",
   "mimetype": "text/x-python",
   "name": "python",
   "nbconvert_exporter": "python",
   "pygments_lexer": "ipython3",
   "version": "3.12.3"
  }
 },
 "nbformat": 4,
 "nbformat_minor": 2
}
