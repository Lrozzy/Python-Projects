{
 "cells": [
  {
   "cell_type": "code",
   "execution_count": 1,
   "metadata": {},
   "outputs": [
    {
     "name": "stderr",
     "output_type": "stream",
     "text": [
      "[nltk_data] Downloading package words to\n",
      "[nltk_data]     C:\\Users\\leoro\\AppData\\Roaming\\nltk_data...\n",
      "[nltk_data]   Package words is already up-to-date!\n"
     ]
    },
    {
     "data": {
      "text/plain": [
       "True"
      ]
     },
     "execution_count": 1,
     "metadata": {},
     "output_type": "execute_result"
    }
   ],
   "source": [
    "import nltk\n",
    "from bs4 import BeautifulSoup\n",
    "import requests\n",
    "nltk.download('words')"
   ]
  },
  {
   "cell_type": "code",
   "execution_count": 2,
   "metadata": {},
   "outputs": [
    {
     "name": "stdout",
     "output_type": "stream",
     "text": [
      "['aalii', 'abaca', 'aback', 'abaff', 'abaft', 'abase', 'abash', 'abask', 'abate', 'abave']\n"
     ]
    }
   ],
   "source": [
    "from nltk.corpus import words\n",
    "word_list = words.words()\n",
    "# Filter for 5-letter words\n",
    "filtered_words = [word.lower() for word in word_list if len(word) == 5 and word.islower() and word.isalpha()]\n",
    "print(filtered_words[:10])"
   ]
  },
  {
   "cell_type": "code",
   "execution_count": 3,
   "metadata": {},
   "outputs": [],
   "source": [
    "def filter_words(word_list, guess, feedback = 'BBBBB'):\n",
    "    B_indexes = [index for index, letter in enumerate(feedback) if letter == 'B']\n",
    "    B_letters = [guess[index] for index in B_indexes]\n",
    "    G_indexes = [index for index, letter in enumerate(feedback) if letter == 'G']\n",
    "    G_letters = [guess[index] for index in G_indexes]\n",
    "    Y_indexes = [index for index, letter in enumerate(feedback) if letter == 'Y']\n",
    "    Y_letters = [guess[index] for index in Y_indexes]\n",
    "    possible_positions = [i for i in range(len(guess)) if i not in G_indexes]\n",
    "    # print(B_indexes, B_letters)\n",
    "    # print(G_indexes, G_letters)\n",
    "    # print(Y_indexes, Y_letters)\n",
    "    # print(possible_positions)\n",
    "    \n",
    "    # For 'B', first identify letters that are not in the word at all\n",
    "    not_in_word = set(letter for index, letter in enumerate(guess) if letter in B_letters and letter not in G_letters and letter not in Y_letters)\n",
    "    # print(\"Not in word:\", not_in_word)\n",
    "    \n",
    "    # Filter words that contain letters that should not be in the word at all\n",
    "    for letter in not_in_word:\n",
    "        word_list = [word for word in word_list if letter not in word]\n",
    "    \n",
    "    # If letter has feedback 'Y', it must be in the word but not in the same position, and not in the positions with 'G'\n",
    "    for index,letter in zip(Y_indexes, Y_letters):\n",
    "        word_list = [word for word in word_list if letter in word and word.index(letter) != index and word.index(letter) not in G_indexes]\n",
    "\n",
    "    # print(\"After 'Y':\", word_list)\n",
    "    \n",
    "    for index,letter in zip(G_indexes, G_letters):\n",
    "        word_list = [word for word in word_list if word[index] == letter]\n",
    "        \n",
    "    # print(\"After 'G':\", word_list)\n",
    "    \n",
    "    # Handle 'B' feedback for letters that also have 'G' or 'Y'\n",
    "    # If a letter has 'B' feedback and 'Y' or 'G' feedback, it cannot be in the word in any 'B' position\n",
    "    for letter in (B_letters):\n",
    "        if letter in G_letters or letter in Y_letters:\n",
    "            word_list = [word for word in word_list if not any(word[index] == guess[index] for index in B_indexes)]\n",
    "    return word_list\n",
    "\n",
    "def next_guess(word_list):\n",
    "    list_length = 25\n",
    "    if len(word_list) > list_length:\n",
    "        return word_list[:list_length]\n",
    "    else:\n",
    "        return word_list\n",
    "    \n"
   ]
  },
  {
   "cell_type": "code",
   "execution_count": 4,
   "metadata": {},
   "outputs": [
    {
     "data": {
      "text/plain": [
       "['bedad',\n",
       " 'beday',\n",
       " 'begad',\n",
       " 'bemad',\n",
       " 'benda',\n",
       " 'cedar',\n",
       " 'lenad',\n",
       " 'medal',\n",
       " 'media',\n",
       " 'mesad',\n",
       " 'pedal',\n",
       " 'penda',\n",
       " 'redan',\n",
       " 'redia',\n",
       " 'sedan',\n",
       " 'sepad',\n",
       " 'weeda',\n",
       " 'zerda']"
      ]
     },
     "execution_count": 4,
     "metadata": {},
     "output_type": "execute_result"
    }
   ],
   "source": [
    "one = filter_words(filtered_words, 'death', 'YGYBB')\n",
    "next_guess(one)"
   ]
  },
  {
   "cell_type": "code",
   "execution_count": 6,
   "metadata": {},
   "outputs": [
    {
     "data": {
      "text/plain": [
       "['media', 'redia']"
      ]
     },
     "execution_count": 6,
     "metadata": {},
     "output_type": "execute_result"
    }
   ],
   "source": [
    "two = filter_words(one, 'sedan', 'BGGYB')\n",
    "next_guess(two)"
   ]
  },
  {
   "cell_type": "code",
   "execution_count": 6,
   "metadata": {},
   "outputs": [
    {
     "data": {
      "text/plain": [
       "['equip']"
      ]
     },
     "execution_count": 6,
     "metadata": {},
     "output_type": "execute_result"
    }
   ],
   "source": [
    "three = filter_words(two, 'prime', 'YBYBY')\n",
    "next_guess(three)"
   ]
  },
  {
   "cell_type": "code",
   "execution_count": 7,
   "metadata": {},
   "outputs": [
    {
     "data": {
      "text/plain": [
       "[]"
      ]
     },
     "execution_count": 7,
     "metadata": {},
     "output_type": "execute_result"
    }
   ],
   "source": [
    "four = filter_words(three, 'tarot', 'GGBGB')\n",
    "next_guess(four)"
   ]
  },
  {
   "cell_type": "code",
   "execution_count": 8,
   "metadata": {},
   "outputs": [
    {
     "data": {
      "text/plain": [
       "[]"
      ]
     },
     "execution_count": 8,
     "metadata": {},
     "output_type": "execute_result"
    }
   ],
   "source": [
    "five = filter_words(four, 'gally', 'BGGGG')\n",
    "next_guess(five)"
   ]
  }
 ],
 "metadata": {
  "kernelspec": {
   "display_name": "base",
   "language": "python",
   "name": "python3"
  },
  "language_info": {
   "codemirror_mode": {
    "name": "ipython",
    "version": 3
   },
   "file_extension": ".py",
   "mimetype": "text/x-python",
   "name": "python",
   "nbconvert_exporter": "python",
   "pygments_lexer": "ipython3",
   "version": "3.12.3"
  }
 },
 "nbformat": 4,
 "nbformat_minor": 2
}
