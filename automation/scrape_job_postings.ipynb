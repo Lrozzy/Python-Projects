{
 "cells": [
  {
   "cell_type": "code",
   "execution_count": 2,
   "metadata": {},
   "outputs": [],
   "source": [
    "import csv\n",
    "from datetime import datetime\n",
    "import requests\n",
    "from bs4 import BeautifulSoup\n",
    "import time\n",
    "from urllib.parse import quote_plus"
   ]
  },
  {
   "cell_type": "code",
   "execution_count": 4,
   "metadata": {},
   "outputs": [
    {
     "data": {
      "text/plain": [
       "'https://www.linkedin.com/jobs/?position=data+analyst&location=San+Francisco&locT=C&locId=1139970'"
      ]
     },
     "execution_count": 4,
     "metadata": {},
     "output_type": "execute_result"
    }
   ],
   "source": [
    "\n",
    "def generate_job_search_url(position, location):\n",
    "    base_url = \"https://www.linkedin.com/jobs/\"\n",
    "    position_encoded = quote_plus(position)\n",
    "    location_encoded = quote_plus(location)\n",
    "    \n",
    "    # Construct the URL with additional fixed query parameters\n",
    "    url = f\"{base_url}?position={position_encoded}&location={location_encoded}&locT=C&locId=1139970\"\n",
    "    return url\n",
    "\n",
    "# Example function call, commented out for now\n",
    "generate_job_search_url(\"data analyst\", \"San Francisco\")\n"
   ]
  }
 ],
 "metadata": {
  "kernelspec": {
   "display_name": "autovenv",
   "language": "python",
   "name": "python3"
  },
  "language_info": {
   "codemirror_mode": {
    "name": "ipython",
    "version": 3
   },
   "file_extension": ".py",
   "mimetype": "text/x-python",
   "name": "python",
   "nbconvert_exporter": "python",
   "pygments_lexer": "ipython3",
   "version": "3.12.3"
  }
 },
 "nbformat": 4,
 "nbformat_minor": 2
}
